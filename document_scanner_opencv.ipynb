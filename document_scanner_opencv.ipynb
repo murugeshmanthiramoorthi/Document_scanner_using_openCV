{
  "nbformat": 4,
  "nbformat_minor": 0,
  "metadata": {
    "colab": {
      "name": "document_scanner_opencv.ipynb",
      "provenance": []
    },
    "kernelspec": {
      "name": "python3",
      "display_name": "Python 3"
    },
    "language_info": {
      "name": "python"
    }
  },
  "cells": [
    {
      "cell_type": "code",
      "metadata": {
        "id": "a8mXpU5P7M4y"
      },
      "source": [
        "import numpy as np\n",
        "import cv2\n",
        "\n",
        "#read the img\n",
        "img = cv2.imread('/content/test.jpg')\n",
        "\n",
        "#resize the image \n",
        "img = cv2.resize(img,(600,800))\n",
        "\n",
        "#convert the img to gray\n",
        "gray =cv2.cvtColor(img,cv2.COLOR_BGR2GRAY)\n",
        "\n",
        "#blurr the image to smoothen the details\n",
        "blur = cv2.GaussianBlur(gray,(5,5),0)\n",
        "\n",
        "#let's find the edges of the image\n",
        "edged = cv2.Canny(blur,0,75)\n",
        "\n",
        "thresh = cv2.adaptiveThreshold(blur ,255,cv2.ADAPTIVE_THRESH_MEAN_C,cv2.THRESH_BINARY,11,2)\n",
        "\n",
        "#find contours in thresholded image and sort them according to decreasing area\n",
        "contours, hireracy = cv2.findContours(thresh, cv2.RETR_LIST, cv2.CHAIN_APPROX_SIMPLE)\n",
        "contours = sorted(contours, key=cv2.contourArea, reverse= True)\n",
        "\n",
        "for i in contours:\n",
        "    \n",
        "\telip =  cv2.arcLength(i, True)\n",
        "\tapprox = cv2.approxPolyDP(i,0.08*elip, True)\n",
        "\n",
        "\tif len(approx) == 4 : \n",
        "\t\tdoc = approx \n",
        "\t\tbreak\n",
        "\n",
        "#draw contours \n",
        "cv2.drawContours(img, [doc], -1, (0, 255, 0), 2)\n",
        "\n",
        "doc=doc.reshape((4,2))"
      ],
      "execution_count": 1,
      "outputs": []
    },
    {
      "cell_type": "code",
      "metadata": {
        "id": "-IeV83Nx9SZc"
      },
      "source": [
        "#create a new array and initialize \n",
        "new_doc = np.zeros((4,2), dtype=\"float32\")\n",
        "\n",
        "\n",
        "Sum = doc.sum(axis = 1)\n",
        "new_doc[0] = doc[np.argmin(Sum)]\n",
        "new_doc[2] = doc[np.argmax(Sum)]\n",
        "\n",
        "Diff = np.diff(doc, axis=1)\n",
        "new_doc[1] = doc[np.argmin(Diff)]\n",
        "new_doc[3] = doc[np.argmax(Diff)]\n",
        "\n",
        "(tl,tr,br,bl) = new_doc\n",
        "\n",
        "#find distance between points and get max \n",
        "dist1 = np.linalg.norm(br-bl)\n",
        "dist2 = np.linalg.norm(tr-tl)\n",
        "\n",
        "maxLen = max(int(dist1),int(dist2))\n",
        "\n",
        "dist3 = np.linalg.norm(tr-br)\n",
        "dist4 = np.linalg.norm(tl-bl)\n",
        "\n",
        "maxHeight = max(int(dist3), int(dist4))\n",
        "\n",
        "dst = np.array([[0,0],[maxLen-1, 0],[maxLen-1, maxHeight-1], [0, maxHeight-1]], dtype=\"float32\")\n",
        "\n",
        "N = cv2.getPerspectiveTransform(new_doc, dst)\n",
        "warp = cv2.warpPerspective(img, N, (maxLen, maxHeight))\n",
        "\n",
        "img2 = cv2.cvtColor(warp, cv2.COLOR_BGR2GRAY)\n",
        "img2 = cv2.resize(img2,(600,800))"
      ],
      "execution_count": 2,
      "outputs": []
    },
    {
      "cell_type": "code",
      "metadata": {
        "colab": {
          "base_uri": "https://localhost:8080/"
        },
        "id": "YYgTlF-w9UvT",
        "outputId": "40d317a0-7b95-45b2-a9c2-a9f16b40e393"
      },
      "source": [
        "cv2.imwrite(\"edge.jpg\", edged)\n",
        "cv2.imwrite(\"contour.jpg\", img)\n",
        "cv2.imwrite(\"Scanned.jpg\", img2)"
      ],
      "execution_count": 3,
      "outputs": [
        {
          "output_type": "execute_result",
          "data": {
            "text/plain": [
              "True"
            ]
          },
          "metadata": {
            "tags": []
          },
          "execution_count": 3
        }
      ]
    }
  ]
}